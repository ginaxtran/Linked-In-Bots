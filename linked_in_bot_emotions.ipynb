{
 "cells": [
  {
   "cell_type": "code",
   "execution_count": 6,
   "metadata": {},
   "outputs": [
    {
     "name": "stderr",
     "output_type": "stream",
     "text": [
      "[nltk_data] Downloading package vader_lexicon to\n",
      "[nltk_data]     C:\\Users\\ginat\\AppData\\Roaming\\nltk_data...\n",
      "[nltk_data]   Package vader_lexicon is already up-to-date!\n"
     ]
    }
   ],
   "source": [
    "#import packages\n",
    "import nltk\n",
    "from nltk.sentiment.vader import SentimentIntensityAnalyzer as SIA\n",
    "import pandas as pd\n",
    "\n",
    "# download VADER lexicon if not already downloaded\n",
    "nltk.download('vader_lexicon')\n",
    "\n",
    "# open csv file\n",
    "df = pd.read_csv(\"linked_in_data.csv\")\n",
    "\n",
    "# remove empty lines and set data types\n",
    "df = df.dropna(subset=[\"Full Name\"])\n",
    "df['About'] = df['About'].astype(str)\n",
    "df['Workplace'] = df['Workplace'].astype('category')"
   ]
  },
  {
   "cell_type": "code",
   "execution_count": 7,
   "metadata": {},
   "outputs": [
    {
     "name": "stdout",
     "output_type": "stream",
     "text": [
      "Neutral: 659\n",
      "Positive: 1776\n",
      "Negative: 36\n",
      "Data saved to: data-with-sentiment.csv\n"
     ]
    }
   ],
   "source": [
    "# calculate sentiment\n",
    "analyzer = SIA()\n",
    "df['compound'] = [analyzer.polarity_scores(x)['compound'] for x in df['About']]\n",
    "df['negative'] = [analyzer.polarity_scores(x)['neg'] for x in df['About']]\n",
    "df['neutral'] = [analyzer.polarity_scores(x)['neu'] for x in df['About']]\n",
    "df['positive'] = [analyzer.polarity_scores(x)['pos'] for x in df['About']]\n",
    "\n",
    "# create 'sentiment' column\n",
    "df['sentiment'] = 'neutral'\n",
    "df.loc[df.compound > 0.05, 'sentiment'] = 'positive'\n",
    "df.loc[df.compound < -0.05, 'sentiment'] = 'negative'\n",
    "\n",
    "# on-screen summary\n",
    "print(\"Neutral:\", df['sentiment'].value_counts()['neutral'])\n",
    "print(\"Positive:\", df['sentiment'].value_counts()['positive'])\n",
    "print(\"Negative:\", df['sentiment'].value_counts()['negative'])\n",
    "\n",
    "# save to csv file\n",
    "output_file_path = \"data-with-sentiment.csv\"  # specify correct path\n",
    "df.to_csv(output_file_path, index=False)\n",
    "\n",
    "# close the file\n",
    "print(\"Data saved to:\", output_file_path)\n",
    "\n",
    "#save to csv file\n",
    "df.to_csv(\"data-with-sentiment.csv\", index=False)"
   ]
  },
  {
   "cell_type": "code",
   "execution_count": null,
   "metadata": {},
   "outputs": [],
   "source": []
  }
 ],
 "metadata": {
  "kernelspec": {
   "display_name": "Python 3 (ipykernel)",
   "language": "python",
   "name": "python3"
  },
  "language_info": {
   "codemirror_mode": {
    "name": "ipython",
    "version": 3
   },
   "file_extension": ".py",
   "mimetype": "text/x-python",
   "name": "python",
   "nbconvert_exporter": "python",
   "pygments_lexer": "ipython3",
   "version": "3.11.5"
  }
 },
 "nbformat": 4,
 "nbformat_minor": 2
}
