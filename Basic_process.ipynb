{
 "cells": [
  {
   "cell_type": "code",
   "execution_count": null,
   "id": "5e3e3403-14e6-4da6-bcb2-feed2b4fda97",
   "metadata": {},
   "outputs": [],
   "source": [
    "import pandas as pd\n",
    "\n",
    "# Load the CSV file\n",
    "df = pd.read_csv('linked_in_data.csv')\n",
    "\n",
    "# Display basic information about the dataset\n",
    "print(\"Data Overview:\")\n",
    "print(df.info())\n",
    "\n",
    "# Display the first few rows of the dataset\n",
    "print(\"\\nFirst 5 Entries:\")\n",
    "print(df.head())\n",
    "\n",
    "# Check for missing values\n",
    "print(\"\\nMissing Values:\")\n",
    "print(df.isnull().sum())\n",
    "\n",
    "\n"
   ]
  },
  {
   "cell_type": "code",
   "execution_count": null,
   "id": "af569761-17dd-44d0-994f-d7a6b73315d4",
   "metadata": {},
   "outputs": [],
   "source": [
    "def clean_data(dataframe):\n",
    "    # Fill missing string data with an empty string or 'Unknown'\n",
    "    dataframe.fillna('Unknown', inplace=True)   \n",
    "    return dataframe\n",
    "\n",
    "# Clean the data\n",
    "df_cleaned = clean_data(df)\n",
    "\n",
    "# Save the cleaned data back to CSV\n",
    "df_cleaned.to_csv('linked_in_data_cleaned.csv', index=False)\n"
   ]
  },
  {
   "cell_type": "code",
   "execution_count": null,
   "id": "591aa623-d844-4bb3-b13e-86b877bc2710",
   "metadata": {},
   "outputs": [],
   "source": [
    "import seaborn as sns\n",
    "import matplotlib.pyplot as plt\n",
    "\n",
    "# Load cleaned data\n",
    "df = pd.read_csv('linked_in_data_cleaned.csv')\n",
    "\n",
    "# Basic statistics\n",
    "print(\"Basic Statistical Overview:\")\n",
    "print(df.describe())\n",
    "\n",
    "# Correlation heatmap\n",
    "plt.figure(figsize=(10, 8))\n",
    "sns.heatmap(df.corr(), annot=True, cmap='coolwarm')\n",
    "plt.title('Feature Correlation Matrix')\n",
    "plt.show()\n"
   ]
  },
  {
   "cell_type": "code",
   "execution_count": null,
   "id": "85995c50-2e4d-478c-b362-146842b25ad0",
   "metadata": {},
   "outputs": [],
   "source": [
    "def feature_engineering(dataframe):\n",
    "    # Create a new feature, e.g., 'Profile Completeness'\n",
    "    dataframe['Profile Completeness'] = dataframe.count(axis=1) / len(dataframe.columns)\n",
    "    \n",
    "    # Example of categorizing a numerical column into bins\n",
    "    dataframe['Connections Category'] = pd.cut(dataframe['Connections'], bins=[0, 100, 500, 1000, 5000], labels=['Low', 'Medium', 'High', 'Very High'])\n",
    "    \n",
    "    return dataframe\n",
    "\n",
    "# Apply feature engineering\n",
    "df_featured = feature_engineering(df_cleaned)\n",
    "\n",
    "# Save the enhanced dataset\n",
    "df_featured.to_csv('linked_in_data_featured.csv', index=False)\n"
   ]
  },
  {
   "cell_type": "code",
   "execution_count": null,
   "id": "54a0e4a0-dd84-4175-b91f-1e5c56c9c6df",
   "metadata": {},
   "outputs": [],
   "source": [
    "# Load the featured data\n",
    "df = pd.read_csv('linked_in_data_featured.csv')\n",
    "\n",
    "# Plotting distributions of 'Profile Completeness'\n",
    "plt.figure(figsize=(8, 6))\n",
    "sns.histplot(df['Profile Completeness'], bins=20, kde=True)\n",
    "plt.title('Distribution of Profile Completeness')\n",
    "plt.xlabel('Completeness')\n",
    "plt.ylabel('Count')\n",
    "plt.show()\n",
    "\n",
    "# Relationship between 'Connections' and 'Followers'\n",
    "plt.figure(figsize=(10, 6))\n",
    "sns.scatterplot(x='Connections', y='Followers', data=df)\n",
    "plt.title('Connections vs Followers')\n",
    "plt.xlabel('Connections')\n",
    "plt.ylabel('Followers')\n",
    "plt.show()\n"
   ]
  }
 ],
 "metadata": {
  "kernelspec": {
   "display_name": "Python 3 (ipykernel)",
   "language": "python",
   "name": "python3"
  },
  "language_info": {
   "codemirror_mode": {
    "name": "ipython",
    "version": 3
   },
   "file_extension": ".py",
   "mimetype": "text/x-python",
   "name": "python",
   "nbconvert_exporter": "python",
   "pygments_lexer": "ipython3",
   "version": "3.12.0"
  }
 },
 "nbformat": 4,
 "nbformat_minor": 5
}
